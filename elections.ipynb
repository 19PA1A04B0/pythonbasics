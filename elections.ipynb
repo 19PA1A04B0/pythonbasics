{
  "nbformat": 4,
  "nbformat_minor": 0,
  "metadata": {
    "colab": {
      "name": "Untitled6.ipynb",
      "provenance": [],
      "authorship_tag": "ABX9TyOjdRuOc4hIbUQEBnRwPbEP",
      "include_colab_link": true
    },
    "kernelspec": {
      "name": "python3",
      "display_name": "Python 3"
    }
  },
  "cells": [
    {
      "cell_type": "markdown",
      "metadata": {
        "id": "view-in-github",
        "colab_type": "text"
      },
      "source": [
        "<a href=\"https://colab.research.google.com/github/19PA1A04B0/pythonbasics/blob/master/elections.ipynb\" target=\"_parent\"><img src=\"https://colab.research.google.com/assets/colab-badge.svg\" alt=\"Open In Colab\"/></a>"
      ]
    },
    {
      "cell_type": "code",
      "metadata": {
        "id": "eYTuK4XK4X1C",
        "colab_type": "code",
        "colab": {}
      },
      "source": [
        "import pandas as pd \n",
        "import numpy as np \n",
        "from sklearn.model_selection import train_test_split \n",
        "from sklearn.linear_model import LinearRegression \n",
        "import matplotlib.pyplot as plt "
      ],
      "execution_count": 0,
      "outputs": []
    },
    {
      "cell_type": "code",
      "metadata": {
        "id": "fejD8Da65HyP",
        "colab_type": "code",
        "colab": {
          "base_uri": "https://localhost:8080/",
          "height": 411
        },
        "outputId": "20063bf8-c714-4563-b12c-29c493f48d16"
      },
      "source": [
        "ls=pd.read_csv(\"/content/2019 LS Data.csv\")\n",
        "ls.head()"
      ],
      "execution_count": 6,
      "outputs": [
        {
          "output_type": "execute_result",
          "data": {
            "text/html": [
              "<div>\n",
              "<style scoped>\n",
              "    .dataframe tbody tr th:only-of-type {\n",
              "        vertical-align: middle;\n",
              "    }\n",
              "\n",
              "    .dataframe tbody tr th {\n",
              "        vertical-align: top;\n",
              "    }\n",
              "\n",
              "    .dataframe thead th {\n",
              "        text-align: right;\n",
              "    }\n",
              "</style>\n",
              "<table border=\"1\" class=\"dataframe\">\n",
              "  <thead>\n",
              "    <tr style=\"text-align: right;\">\n",
              "      <th></th>\n",
              "      <th>STATE</th>\n",
              "      <th>CONSTITUENCY</th>\n",
              "      <th>NAME</th>\n",
              "      <th>WINNER</th>\n",
              "      <th>PARTY</th>\n",
              "      <th>SYMBOL</th>\n",
              "      <th>GENDER</th>\n",
              "      <th>CRIMINAL\\nCASES</th>\n",
              "      <th>AGE</th>\n",
              "      <th>CATEGORY</th>\n",
              "      <th>EDUCATION</th>\n",
              "      <th>ASSETS</th>\n",
              "      <th>LIABILITIES</th>\n",
              "      <th>GENERAL\\nVOTES</th>\n",
              "      <th>POSTAL\\nVOTES</th>\n",
              "      <th>TOTAL\\nVOTES</th>\n",
              "      <th>OVER TOTAL ELECTORS \\nIN CONSTITUENCY</th>\n",
              "      <th>OVER TOTAL VOTES POLLED \\nIN CONSTITUENCY</th>\n",
              "      <th>TOTAL ELECTORS</th>\n",
              "    </tr>\n",
              "  </thead>\n",
              "  <tbody>\n",
              "    <tr>\n",
              "      <th>0</th>\n",
              "      <td>Telangana</td>\n",
              "      <td>ADILABAD</td>\n",
              "      <td>SOYAM BAPU RAO</td>\n",
              "      <td>1</td>\n",
              "      <td>BJP</td>\n",
              "      <td>Lotus</td>\n",
              "      <td>MALE</td>\n",
              "      <td>52</td>\n",
              "      <td>52.0</td>\n",
              "      <td>ST</td>\n",
              "      <td>12th Pass</td>\n",
              "      <td>Rs 30,99,414\\n ~ 30 Lacs+</td>\n",
              "      <td>Rs 2,31,450\\n ~ 2 Lacs+</td>\n",
              "      <td>376892</td>\n",
              "      <td>482</td>\n",
              "      <td>377374</td>\n",
              "      <td>25.330684</td>\n",
              "      <td>35.468248</td>\n",
              "      <td>1489790</td>\n",
              "    </tr>\n",
              "    <tr>\n",
              "      <th>1</th>\n",
              "      <td>Telangana</td>\n",
              "      <td>ADILABAD</td>\n",
              "      <td>Godam Nagesh</td>\n",
              "      <td>0</td>\n",
              "      <td>TRS</td>\n",
              "      <td>Car</td>\n",
              "      <td>MALE</td>\n",
              "      <td>0</td>\n",
              "      <td>54.0</td>\n",
              "      <td>ST</td>\n",
              "      <td>Post Graduate</td>\n",
              "      <td>Rs 1,84,77,888\\n ~ 1 Crore+</td>\n",
              "      <td>Rs 8,47,000\\n ~ 8 Lacs+</td>\n",
              "      <td>318665</td>\n",
              "      <td>149</td>\n",
              "      <td>318814</td>\n",
              "      <td>21.399929</td>\n",
              "      <td>29.964370</td>\n",
              "      <td>1489790</td>\n",
              "    </tr>\n",
              "    <tr>\n",
              "      <th>2</th>\n",
              "      <td>Telangana</td>\n",
              "      <td>ADILABAD</td>\n",
              "      <td>RATHOD RAMESH</td>\n",
              "      <td>0</td>\n",
              "      <td>INC</td>\n",
              "      <td>Hand</td>\n",
              "      <td>MALE</td>\n",
              "      <td>3</td>\n",
              "      <td>52.0</td>\n",
              "      <td>ST</td>\n",
              "      <td>12th Pass</td>\n",
              "      <td>Rs 3,64,91,000\\n ~ 3 Crore+</td>\n",
              "      <td>Rs 1,53,00,000\\n ~ 1 Crore+</td>\n",
              "      <td>314057</td>\n",
              "      <td>181</td>\n",
              "      <td>314238</td>\n",
              "      <td>21.092771</td>\n",
              "      <td>29.534285</td>\n",
              "      <td>1489790</td>\n",
              "    </tr>\n",
              "    <tr>\n",
              "      <th>3</th>\n",
              "      <td>Telangana</td>\n",
              "      <td>ADILABAD</td>\n",
              "      <td>NOTA</td>\n",
              "      <td>0</td>\n",
              "      <td>NOTA</td>\n",
              "      <td>NaN</td>\n",
              "      <td>NaN</td>\n",
              "      <td>NaN</td>\n",
              "      <td>NaN</td>\n",
              "      <td>NaN</td>\n",
              "      <td>NaN</td>\n",
              "      <td>NaN</td>\n",
              "      <td>NaN</td>\n",
              "      <td>13030</td>\n",
              "      <td>6</td>\n",
              "      <td>13036</td>\n",
              "      <td>0.875023</td>\n",
              "      <td>1.225214</td>\n",
              "      <td>1489790</td>\n",
              "    </tr>\n",
              "    <tr>\n",
              "      <th>4</th>\n",
              "      <td>Uttar Pradesh</td>\n",
              "      <td>AGRA</td>\n",
              "      <td>Satyapal Singh Baghel</td>\n",
              "      <td>1</td>\n",
              "      <td>BJP</td>\n",
              "      <td>Lotus</td>\n",
              "      <td>MALE</td>\n",
              "      <td>5</td>\n",
              "      <td>58.0</td>\n",
              "      <td>SC</td>\n",
              "      <td>Doctorate</td>\n",
              "      <td>Rs 7,42,74,036\\n ~ 7 Crore+</td>\n",
              "      <td>Rs 86,06,522\\n ~ 86 Lacs+</td>\n",
              "      <td>644459</td>\n",
              "      <td>2416</td>\n",
              "      <td>646875</td>\n",
              "      <td>33.383823</td>\n",
              "      <td>56.464615</td>\n",
              "      <td>1937690</td>\n",
              "    </tr>\n",
              "  </tbody>\n",
              "</table>\n",
              "</div>"
            ],
            "text/plain": [
              "           STATE  ... TOTAL ELECTORS\n",
              "0      Telangana  ...        1489790\n",
              "1      Telangana  ...        1489790\n",
              "2      Telangana  ...        1489790\n",
              "3      Telangana  ...        1489790\n",
              "4  Uttar Pradesh  ...        1937690\n",
              "\n",
              "[5 rows x 19 columns]"
            ]
          },
          "metadata": {
            "tags": []
          },
          "execution_count": 6
        }
      ]
    },
    {
      "cell_type": "code",
      "metadata": {
        "id": "qDhTXNj46uM7",
        "colab_type": "code",
        "colab": {
          "base_uri": "https://localhost:8080/",
          "height": 357
        },
        "outputId": "94342f8e-9a62-4986-8c48-2b5d23f23644"
      },
      "source": [
        "ls.isna().any()"
      ],
      "execution_count": 7,
      "outputs": [
        {
          "output_type": "execute_result",
          "data": {
            "text/plain": [
              "STATE                                        False\n",
              "CONSTITUENCY                                 False\n",
              "NAME                                         False\n",
              "WINNER                                       False\n",
              "PARTY                                        False\n",
              "SYMBOL                                        True\n",
              "GENDER                                        True\n",
              "CRIMINAL\\nCASES                               True\n",
              "AGE                                           True\n",
              "CATEGORY                                      True\n",
              "EDUCATION                                     True\n",
              "ASSETS                                        True\n",
              "LIABILITIES                                   True\n",
              "GENERAL\\nVOTES                               False\n",
              "POSTAL\\nVOTES                                False\n",
              "TOTAL\\nVOTES                                 False\n",
              "OVER TOTAL ELECTORS \\nIN CONSTITUENCY        False\n",
              "OVER TOTAL VOTES POLLED \\nIN CONSTITUENCY    False\n",
              "TOTAL ELECTORS                               False\n",
              "dtype: bool"
            ]
          },
          "metadata": {
            "tags": []
          },
          "execution_count": 7
        }
      ]
    },
    {
      "cell_type": "code",
      "metadata": {
        "id": "iUHHBDnn62BR",
        "colab_type": "code",
        "colab": {}
      },
      "source": [
        "ls=ls.fillna(method=\"ffill\")"
      ],
      "execution_count": 0,
      "outputs": []
    },
    {
      "cell_type": "code",
      "metadata": {
        "id": "80pWXGZR7AYk",
        "colab_type": "code",
        "colab": {
          "base_uri": "https://localhost:8080/",
          "height": 357
        },
        "outputId": "1a71ab91-bcfe-49a0-9595-0aea11edda5a"
      },
      "source": [
        "ls.isna().any()"
      ],
      "execution_count": 11,
      "outputs": [
        {
          "output_type": "execute_result",
          "data": {
            "text/plain": [
              "STATE                                        False\n",
              "CONSTITUENCY                                 False\n",
              "NAME                                         False\n",
              "WINNER                                       False\n",
              "PARTY                                        False\n",
              "SYMBOL                                       False\n",
              "GENDER                                       False\n",
              "CRIMINAL\\nCASES                              False\n",
              "AGE                                          False\n",
              "CATEGORY                                     False\n",
              "EDUCATION                                    False\n",
              "ASSETS                                       False\n",
              "LIABILITIES                                  False\n",
              "GENERAL\\nVOTES                               False\n",
              "POSTAL\\nVOTES                                False\n",
              "TOTAL\\nVOTES                                 False\n",
              "OVER TOTAL ELECTORS \\nIN CONSTITUENCY        False\n",
              "OVER TOTAL VOTES POLLED \\nIN CONSTITUENCY    False\n",
              "TOTAL ELECTORS                               False\n",
              "dtype: bool"
            ]
          },
          "metadata": {
            "tags": []
          },
          "execution_count": 11
        }
      ]
    },
    {
      "cell_type": "code",
      "metadata": {
        "id": "f72TcYg890iV",
        "colab_type": "code",
        "colab": {}
      },
      "source": [
        "x=ls[['STATE',                                        \n",
        "'CONSTITUENCY',\n",
        "'NAME',                                         \n",
        "'WINNER',                                     \n",
        "'PARTY',                                        \n",
        "'SYMBOL',                                     \n",
        "'GENDER',                                       \n",
        "'CRIMINAL\\nCASES',                              \n",
        "'AGE',                                          \n",
        "'CATEGORY',                                     \n",
        "'EDUCATION',                                   \n",
        "'ASSETS',                                     \n",
        "'LIABILITIES',                                  \n",
        "'GENERAL\\nVOTES',                               \n",
        "'POSTAL\\nVOTES',                                \n",
        "'TOTAL\\nVOTES',                                 \n",
        "'OVER TOTAL ELECTORS \\nIN CONSTITUENCY',        \n",
        "'OVER TOTAL VOTES POLLED \\nIN CONSTITUENCY']].values\n",
        "y=ls['TOTAL ELECTORS'].values"
      ],
      "execution_count": 0,
      "outputs": []
    },
    {
      "cell_type": "code",
      "metadata": {
        "id": "5mWO0Zv8_nB9",
        "colab_type": "code",
        "colab": {
          "base_uri": "https://localhost:8080/",
          "height": 368
        },
        "outputId": "e1f06830-6ef9-4e83-faee-5446a193395a"
      },
      "source": [
        "ls.describe()"
      ],
      "execution_count": 24,
      "outputs": [
        {
          "output_type": "execute_result",
          "data": {
            "text/html": [
              "<div>\n",
              "<style scoped>\n",
              "    .dataframe tbody tr th:only-of-type {\n",
              "        vertical-align: middle;\n",
              "    }\n",
              "\n",
              "    .dataframe tbody tr th {\n",
              "        vertical-align: top;\n",
              "    }\n",
              "\n",
              "    .dataframe thead th {\n",
              "        text-align: right;\n",
              "    }\n",
              "</style>\n",
              "<table border=\"1\" class=\"dataframe\">\n",
              "  <thead>\n",
              "    <tr style=\"text-align: right;\">\n",
              "      <th></th>\n",
              "      <th>WINNER</th>\n",
              "      <th>AGE</th>\n",
              "      <th>GENERAL\\nVOTES</th>\n",
              "      <th>POSTAL\\nVOTES</th>\n",
              "      <th>TOTAL\\nVOTES</th>\n",
              "      <th>OVER TOTAL ELECTORS \\nIN CONSTITUENCY</th>\n",
              "      <th>OVER TOTAL VOTES POLLED \\nIN CONSTITUENCY</th>\n",
              "      <th>TOTAL ELECTORS</th>\n",
              "    </tr>\n",
              "  </thead>\n",
              "  <tbody>\n",
              "    <tr>\n",
              "      <th>count</th>\n",
              "      <td>2263.000000</td>\n",
              "      <td>2263.000000</td>\n",
              "      <td>2.263000e+03</td>\n",
              "      <td>2263.000000</td>\n",
              "      <td>2.263000e+03</td>\n",
              "      <td>2263.000000</td>\n",
              "      <td>2263.000000</td>\n",
              "      <td>2.263000e+03</td>\n",
              "    </tr>\n",
              "    <tr>\n",
              "      <th>mean</th>\n",
              "      <td>0.238179</td>\n",
              "      <td>52.162174</td>\n",
              "      <td>2.615991e+05</td>\n",
              "      <td>990.710561</td>\n",
              "      <td>2.625898e+05</td>\n",
              "      <td>15.811412</td>\n",
              "      <td>23.190525</td>\n",
              "      <td>1.658016e+06</td>\n",
              "    </tr>\n",
              "    <tr>\n",
              "      <th>std</th>\n",
              "      <td>0.426064</td>\n",
              "      <td>11.764140</td>\n",
              "      <td>2.549906e+05</td>\n",
              "      <td>1602.839174</td>\n",
              "      <td>2.559822e+05</td>\n",
              "      <td>14.962861</td>\n",
              "      <td>21.564758</td>\n",
              "      <td>3.145187e+05</td>\n",
              "    </tr>\n",
              "    <tr>\n",
              "      <th>min</th>\n",
              "      <td>0.000000</td>\n",
              "      <td>25.000000</td>\n",
              "      <td>1.339000e+03</td>\n",
              "      <td>0.000000</td>\n",
              "      <td>1.342000e+03</td>\n",
              "      <td>0.097941</td>\n",
              "      <td>1.000039</td>\n",
              "      <td>5.518900e+04</td>\n",
              "    </tr>\n",
              "    <tr>\n",
              "      <th>25%</th>\n",
              "      <td>0.000000</td>\n",
              "      <td>43.000000</td>\n",
              "      <td>2.103450e+04</td>\n",
              "      <td>57.000000</td>\n",
              "      <td>2.116250e+04</td>\n",
              "      <td>1.296518</td>\n",
              "      <td>1.899502</td>\n",
              "      <td>1.530014e+06</td>\n",
              "    </tr>\n",
              "    <tr>\n",
              "      <th>50%</th>\n",
              "      <td>0.000000</td>\n",
              "      <td>52.000000</td>\n",
              "      <td>1.539340e+05</td>\n",
              "      <td>316.000000</td>\n",
              "      <td>1.544890e+05</td>\n",
              "      <td>10.510553</td>\n",
              "      <td>16.221721</td>\n",
              "      <td>1.679030e+06</td>\n",
              "    </tr>\n",
              "    <tr>\n",
              "      <th>75%</th>\n",
              "      <td>0.000000</td>\n",
              "      <td>61.000000</td>\n",
              "      <td>4.858040e+05</td>\n",
              "      <td>1385.000000</td>\n",
              "      <td>4.872315e+05</td>\n",
              "      <td>29.468185</td>\n",
              "      <td>42.590233</td>\n",
              "      <td>1.816857e+06</td>\n",
              "    </tr>\n",
              "    <tr>\n",
              "      <th>max</th>\n",
              "      <td>1.000000</td>\n",
              "      <td>86.000000</td>\n",
              "      <td>1.066824e+06</td>\n",
              "      <td>19367.000000</td>\n",
              "      <td>1.068569e+06</td>\n",
              "      <td>51.951012</td>\n",
              "      <td>74.411856</td>\n",
              "      <td>3.150313e+06</td>\n",
              "    </tr>\n",
              "  </tbody>\n",
              "</table>\n",
              "</div>"
            ],
            "text/plain": [
              "            WINNER  ...  TOTAL ELECTORS\n",
              "count  2263.000000  ...    2.263000e+03\n",
              "mean      0.238179  ...    1.658016e+06\n",
              "std       0.426064  ...    3.145187e+05\n",
              "min       0.000000  ...    5.518900e+04\n",
              "25%       0.000000  ...    1.530014e+06\n",
              "50%       0.000000  ...    1.679030e+06\n",
              "75%       0.000000  ...    1.816857e+06\n",
              "max       1.000000  ...    3.150313e+06\n",
              "\n",
              "[8 rows x 8 columns]"
            ]
          },
          "metadata": {
            "tags": []
          },
          "execution_count": 24
        }
      ]
    }
  ]
}